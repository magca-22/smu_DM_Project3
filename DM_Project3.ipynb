{
 "cells": [
  {
   "cell_type": "code",
   "execution_count": null,
   "id": "16d69ec7",
   "metadata": {},
   "outputs": [],
   "source": [
    "# Project 3 \n",
    "# model comparison section on R learn thing help for knn train and test"
   ]
  },
  {
   "cell_type": "code",
   "execution_count": null,
   "id": "e0c22d9c",
   "metadata": {},
   "outputs": [],
   "source": [
    "library(\"tidyverse\")\n",
    "library(\"DT\")\n",
    "install(\"caret\")"
   ]
  },
  {
   "cell_type": "code",
   "execution_count": null,
   "id": "cc59f27c",
   "metadata": {},
   "outputs": [],
   "source": [
    "snapshot_urlfile = \"https://raw.githubusercontent.com/ncliu95/smu_dm_project_2/main/texas_snapshot_with_census_pol.csv\""
   ]
  },
  {
   "cell_type": "code",
   "execution_count": null,
   "id": "fffd30b6",
   "metadata": {},
   "outputs": [],
   "source": [
    "snapshot_cases <- read_csv(url(snapshot_urlfile))"
   ]
  },
  {
   "cell_type": "code",
   "execution_count": null,
   "id": "27f92f7c",
   "metadata": {},
   "outputs": [],
   "source": [
    "# Calculate rates (per 1000 people) and select important variables\n",
    "# And normalize the data \n",
    "snapshot_cases <- snapshot_cases %>% mutate(\n",
    "  cases_per_1000 = confirmed_cases/total_pop*1000, \n",
    "  deaths_per_1000 = deaths/total_pop*1000, \n",
    "  death_per_case = deaths/confirmed_cases,\n",
    "    hispanic_ratio = hispanic_pop/total_pop,\n",
    "    percent_male_pop = male_pop/total_pop,\n",
    "    percent_female_pop = female_pop/total_pop,\n",
    "    white_ratio = white_pop/total_pop,\n",
    "    black_ratio = black_pop/total_pop,\n",
    "    asian_ratio = asian_pop/total_pop,\n",
    "    amerindian_ratio = amerindian_pop/total_pop,\n",
    "    other_race_ratio = other_race_pop/total_pop,\n",
    "    percent_unemployed = unemployed_pop/total_pop,\n",
    "    percent_children = children/total_pop,\n",
    "    percent_employed_agriculture_forestry_fishing_hunting_mining = employed_agriculture_forestry_fishing_hunting_mining/total_pop,\n",
    "    percent_employed_arts_entertainment_recreation_accommodation_food = employed_arts_entertainment_recreation_accommodation_food/total_pop,\n",
    "    percent_employed_construction = employed_construction/total_pop,\n",
    "    percent_employed_education_health_social = employed_education_health_social/total_pop,\n",
    "    percent_employed_finance_insurance_real_estate = employed_finance_insurance_real_estate/total_pop,\n",
    "    percent_employed_information = employed_information/total_pop,\n",
    "    percent_employed_manufacturing = employed_manufacturing/total_pop,\n",
    "    percent_employed_other_services_not_public_admin = employed_other_services_not_public_admin/total_pop,\n",
    "    percent_employed_public_administration = employed_public_administration/total_pop,\n",
    "    percent_employed_retail_trade = employed_retail_trade/total_pop,\n",
    "    percent_employed_science_management_admin_waste = employed_science_management_admin_waste/total_pop,\n",
    "    percent_employed_transportation_warehousing_utilities = employed_transportation_warehousing_utilities/total_pop,\n",
    "    percent_employed_wholesale_trade = employed_wholesale_trade/total_pop,\n",
    "    percent_unemployed = unemployed_pop/total_pop,\n",
    "    percent_children = children/total_pop,\n",
    "    percent_commute_by_bus = commuters_by_bus/employed_pop,\n",
    "    percent_commute_by_car_truck_van = commuters_by_car_truck_van/employed_pop,\n",
    "    percent_commute_by_carpool = commuters_by_carpool/employed_pop,\n",
    "    percent_commute_by_subway = commuters_by_subway_or_elevated/employed_pop,\n",
    "    percent_commute_by_driving_alone = commuters_drove_alone/employed_pop,\n",
    "    percent_wfh = worked_at_home/employed_pop\n",
    ")\n"
   ]
  },
  {
   "cell_type": "code",
   "execution_count": null,
   "id": "7ddc7970",
   "metadata": {},
   "outputs": [],
   "source": [
    "# Download county data for Texas\n",
    "tx_counties <- counties(state = \"TX\")\n",
    "tx_counties$GEOID <- as.numeric(tx_counties$GEOID)\n",
    "snapshot_cases <- left_join(snapshot_cases, tx_counties[, c(\"GEOID\", \"ALAND\")], by = c(\"county_fips_code\" = \"GEOID\"))\n",
    "snapshot_cases <- snapshot_cases %>% mutate(\n",
    "  pop_density = total_pop/ALAND)"
   ]
  },
  {
   "cell_type": "code",
   "execution_count": null,
   "id": "6a1bd4ef",
   "metadata": {},
   "outputs": [],
   "source": []
  }
 ],
 "metadata": {
  "kernelspec": {
   "display_name": "R",
   "language": "R",
   "name": "ir"
  },
  "language_info": {
   "codemirror_mode": "r",
   "file_extension": ".r",
   "mimetype": "text/x-r-source",
   "name": "R",
   "pygments_lexer": "r",
   "version": "4.2.2"
  }
 },
 "nbformat": 4,
 "nbformat_minor": 5
}
